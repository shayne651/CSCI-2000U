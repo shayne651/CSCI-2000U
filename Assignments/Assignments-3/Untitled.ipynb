{
 "cells": [
  {
   "cell_type": "code",
   "execution_count": 61,
   "metadata": {
    "collapsed": false
   },
   "outputs": [],
   "source": [
    "#Shayne Taylor\n",
    "#100552047\n",
    "import matplotlib.pyplot as mpl\n",
    "#these lines are just loading all of the data points into a float array for use later\n",
    "File = open(\"vancouver_temperature_2012.dat\",\"r\")\n",
    "Montreal=[]\n",
    "for line in File.read().split():\n",
    "    Montreal.append(float(line))\n",
    "File.close()\n",
    "File = open(\"toronto_temperature_2012.dat\",\"r\")\n",
    "Toronto=[]\n",
    "for line in File.read().split():\n",
    "    Toronto.append(float(line))\n",
    "File.close()\n",
    "File = open(\"vancouver_temperature_2012.dat\",\"r\")\n",
    "Vancouver=[]\n",
    "for line in File.read().split():\n",
    "    Vancouver.append(float(line))\n",
    "File.close()\n",
    "#this is making the ticks the month names instead of inegers\n",
    "months = ['Jan','Feb','March','April','May','June','July','Aug','Sept','Oct','Nov','Dec']\n",
    "x= [1,2,3,4,5,6,7,8,9,10,11,12]\n",
    "mpl.xticks(x,months)\n",
    "#plotting all of the data points\n",
    "mpl.plot(x,Montreal,label='Montreal')\n",
    "mpl.plot(Toronto,label='Toronto')\n",
    "mpl.plot(Vancouver,label='Vancouver')\n",
    "#making the legend \n",
    "mpl.legend(loc='upper right')\n",
    "mpl.show()"
   ]
  },
  {
   "cell_type": "code",
   "execution_count": 65,
   "metadata": {
    "collapsed": false
   },
   "outputs": [],
   "source": [
    "#Shayne Taylor\n",
    "#100552047\n",
    "import matplotlib.pyplot as mpl\n",
    "lables = ['USA','CHN','GBR','RUS','KOR','GER','FRA','ITA','HUN','AUS','OTHER']\n",
    "sizes=[46,38,29,24,13,11,11,8,8,7,107]\n",
    "mpl.pie(sizes,labels=lables,startangle=90)\n",
    "mpl.axis('equal')\n",
    "mpl.show()"
   ]
  },
  {
   "cell_type": "code",
   "execution_count": 66,
   "metadata": {
    "collapsed": false
   },
   "outputs": [
    {
     "name": "stdout",
     "output_type": "stream",
     "text": [
      "When n =  10  rho_n =  3.0418396189294032\n",
      "when n =  10  tau_n= 3.04936163598207\n",
      "when n =  10  mu_n =   3.1413846224669713\n",
      "When n =  100  rho_n =  3.1315929035585537\n",
      "when n =  100  tau_n= 3.1320765318091053\n",
      "when n =  100  mu_n =   3.1415924153073678\n",
      "When n =  1000  rho_n =  3.140592653839794\n",
      "when n =  1000  tau_n= 3.1406380562059946\n",
      "when n =  1000  mu_n =   3.1415926533482703\n",
      "When n =  10000  rho_n =  3.1414926535900345\n",
      "when n =  10000  tau_n= 3.1414971639472147\n",
      "when n =  10000  mu_n =   3.141592653589592\n",
      "When n =  1000000  rho_n =  3.1415916535897743\n",
      "when n =  1000000  tau_n= 3.1415916986605086\n",
      "when n =  1000000  mu_n =   3.141592653589592\n"
     ]
    }
   ],
   "source": [
    "#Shayne Taylor\n",
    "#100552047\n",
    "def rho_n(num):\n",
    "    sum=0\n",
    "    for x in range(1,num+1):\n",
    "        sum+=((-1)**(x+1))/((2*x)-1)\n",
    "    print ('When n = ',num,' rho_n = ',4*sum)\n",
    "def tau_n(num):\n",
    "    sum=0\n",
    "    for x in range(1,num+1):\n",
    "        sum+=(1/(x**2))\n",
    "    print ('when n = ',num,' tau_n=',(6*sum)**(1/2))\n",
    "def mu_n(num):\n",
    "    sum=0\n",
    "    for x in range(1,num+1):\n",
    "        sum+=1/x**4\n",
    "    print('when n = ',num,' mu_n =  ',(90*sum)**(1/4))\n",
    "\n",
    "rho_n(10)\n",
    "tau_n(10)\n",
    "mu_n(10)\n",
    "rho_n(100)\n",
    "tau_n(100)\n",
    "mu_n(100)\n",
    "rho_n(1000)\n",
    "tau_n(1000)\n",
    "mu_n(1000)\n",
    "rho_n(10000)\n",
    "tau_n(10000)\n",
    "mu_n(10000)\n",
    "rho_n(1000000)\n",
    "tau_n(1000000)\n",
    "mu_n(1000000)"
   ]
  },
  {
   "cell_type": "code",
   "execution_count": 174,
   "metadata": {
    "collapsed": false
   },
   "outputs": [],
   "source": [
    "import numpy as np\n",
    "import matplotlib.pyplot as mpl\n",
    "#origional array creation\n",
    "x=[]\n",
    "y=[]\n",
    "count =0\n",
    "File = open('xy_points.dat','r')\n",
    "for line in File.read().split():\n",
    "    if (count <1000):\n",
    "        x.append(float(line))\n",
    "        count+=1\n",
    "    else:\n",
    "        y.append(float(line))\n",
    "        count+=1\n",
    "File.close()\n",
    "#the numpy array that contains all of the numbers\n",
    "npX=np.array(x)\n",
    "npY=np.array(y)\n",
    "#new numpy array that has all the values there are within 5 units of (0,5)\n",
    "finalX=npX[((npX**(2))+(npY-5)**(2))**(1/2)<5]\n",
    "finalY=npY[((npX**2)+(npY-5)**2)**(1/2)<5]\n",
    "#finding all the points that are within the bounds of x<-2 , -5<=Y<=0\n",
    "npX=npX[npX<-2]\n",
    "npY=npY[npX<-2]\n",
    "\n",
    "npX=npX[npY>=-5]\n",
    "npY=npY[npY>=-5]\n",
    "\n",
    "npX=npX[npY<=0]\n",
    "npY=npY[npY<=0]\n",
    "#plotting them all in their designated colors\n",
    "mpl.scatter(x,y,color='r')\n",
    "mpl.scatter(npX,npY)\n",
    "mpl.scatter(finalX,finalY,color ='g')\n",
    "#setting the axis \n",
    "mpl.ylim(-10,10)\n",
    "mpl.xlim(-10,10)\n",
    "\n",
    "mpl.show()"
   ]
  },
  {
   "cell_type": "code",
   "execution_count": null,
   "metadata": {
    "collapsed": true
   },
   "outputs": [],
   "source": []
  },
  {
   "cell_type": "code",
   "execution_count": null,
   "metadata": {
    "collapsed": true
   },
   "outputs": [],
   "source": []
  }
 ],
 "metadata": {
  "kernelspec": {
   "display_name": "Python 3",
   "language": "python",
   "name": "python3"
  },
  "language_info": {
   "codemirror_mode": {
    "name": "ipython",
    "version": 3
   },
   "file_extension": ".py",
   "mimetype": "text/x-python",
   "name": "python",
   "nbconvert_exporter": "python",
   "pygments_lexer": "ipython3",
   "version": "3.4.3"
  }
 },
 "nbformat": 4,
 "nbformat_minor": 0
}
