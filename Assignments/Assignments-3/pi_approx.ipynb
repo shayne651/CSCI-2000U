#Shayne Taylor
#100552047
def rho_n(num):
    sum=0
    for x in range(1,num+1):
        sum+=((-1)**(x+1))/((2*x)-1)
    print ('When n = ',num,' rho_n = ',4*sum)
def tau_n(num):
    sum=0
    for x in range(1,num+1):
        sum+=(1/(x**2))
    print ('when n = ',num,' tau_n=',(6*sum)**(1/2))
def mu_n(num):
    sum=0
    for x in range(1,num+1):
        sum+=1/x**4
    print('when n = ',num,' mu_n =  ',(90*sum)**(1/4))

rho_n(10)
tau_n(10)
mu_n(10)
rho_n(100)
tau_n(100)
mu_n(100)
rho_n(1000)
tau_n(1000)
mu_n(1000)
rho_n(10000)
tau_n(10000)
mu_n(10000)
rho_n(1000000)
tau_n(1000000)
mu_n(1000000)