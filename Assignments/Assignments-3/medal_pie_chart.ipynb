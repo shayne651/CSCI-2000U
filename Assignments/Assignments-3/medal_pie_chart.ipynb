#Shayne Taylor
#100552047
import matplotlib.pyplot as mpl
lables = ['USA','CHN','GBR','RUS','KOR','GER','FRA','ITA','HUN','AUS','OTHER']
sizes=[46,38,29,24,13,11,11,8,8,7,107]
#making the piechart graph the data with labels and starts the piechart off at 90 degrees
mpl.pie(sizes,labels=lables,startangle=90)
mpl.axis('equal')
mpl.show()