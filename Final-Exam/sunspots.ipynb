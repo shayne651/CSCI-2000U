{
 "cells": [
  {
   "cell_type": "code",
   "execution_count": 34,
   "metadata": {
    "collapsed": false
   },
   "outputs": [
    {
     "name": "stdout",
     "output_type": "stream",
     "text": [
      "Populating the interactive namespace from numpy and matplotlib\n"
     ]
    },
    {
     "name": "stderr",
     "output_type": "stream",
     "text": [
      "WARNING: pylab import has clobbered these variables: ['median', 'mean']\n",
      "`%matplotlib` prevents importing * from pylab and numpy\n"
     ]
    }
   ],
   "source": [
    "#Shayne Taylor\n",
    "#100552047\n",
    "from mpl_toolkits.basemap import Basemap\n",
    "import matplotlib.pyplot as plt\n",
    "import csv\n",
    "%pylab inline\n",
    "\n",
    "#reading the data from the CSV file\n",
    "with open('ISSN_D_tot.csv') as csvfile:\n",
    "    readCSV=csv.reader(csvfile,delimiter=',')\n",
    "    year=[]\n",
    "    month= []\n",
    "    date=[]\n",
    "    DecRep=[]\n",
    "    spotsOnDate=[]\n",
    "    unnOfficial=[]\n",
    "    \n",
    "    for row in readCSV:\n",
    "        year.append(int(row[0]))\n",
    "        month.append(int(row[1]))\n",
    "        date.append(int(row[2]))\n",
    "        DecRep.append(float(row[3]))\n",
    "        spotsOnDate.append(int(row[4]))\n",
    "        unnOfficial.append(int(row[5]))\n",
    "        "
   ]
  },
  {
   "cell_type": "code",
   "execution_count": 36,
   "metadata": {
    "collapsed": false
   },
   "outputs": [
    {
     "name": "stdout",
     "output_type": "stream",
     "text": [
      "the most recent sunspot observation was  2015 - 5 - 31\n"
     ]
    }
   ],
   "source": [
    "print('the most recent sunspot observation was ',year[-1],'-',month[-1],'-',date[-1])"
   ]
  },
  {
   "cell_type": "code",
   "execution_count": 37,
   "metadata": {
    "collapsed": false,
    "scrolled": true
   },
   "outputs": [
    {
     "name": "stdout",
     "output_type": "stream",
     "text": [
      "mean: 13.003189836902253  \n",
      "median:  77  \n",
      "Standard Deviation 0.0023450195683191828\n"
     ]
    }
   ],
   "source": [
    "mean=0\n",
    "median=0\n",
    "SD=0\n",
    "n=0\n",
    "for i in spotsOnDate:\n",
    "    n+=1\n",
    "    mean+=spotsOnDate[i]\n",
    "mean=mean/n\n",
    "SD=(mean**2)/(n-1)\n",
    "n=int(n/2)\n",
    "median=spotsOnDate[n]\n",
    "print('mean:',mean,' \\nmedian: ',median,' \\nStandard Deviation',SD)"
   ]
  },
  {
   "cell_type": "code",
   "execution_count": null,
   "metadata": {
    "collapsed": true
   },
   "outputs": [],
   "source": []
  }
 ],
 "metadata": {
  "kernelspec": {
   "display_name": "Python 3",
   "language": "python",
   "name": "python3"
  },
  "language_info": {
   "codemirror_mode": {
    "name": "ipython",
    "version": 3
   },
   "file_extension": ".py",
   "mimetype": "text/x-python",
   "name": "python",
   "nbconvert_exporter": "python",
   "pygments_lexer": "ipython3",
   "version": "3.4.3"
  }
 },
 "nbformat": 4,
 "nbformat_minor": 0
}
