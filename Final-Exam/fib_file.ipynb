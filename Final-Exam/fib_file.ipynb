{
 "cells": [
  {
   "cell_type": "code",
   "execution_count": 70,
   "metadata": {
    "collapsed": false
   },
   "outputs": [],
   "source": [
    "def fib(n,fname):\n",
    "    writer = open(fname,'w')\n",
    "    if (n==0):\n",
    "        writer.write('0 \\n')\n",
    "        writer.close\n",
    "        return 0\n",
    "    elif (n==1):\n",
    "        writer.write('1 \\n')\n",
    "        writer.close\n",
    "        return (1+fib(n-1,fname))\n",
    "    else:\n",
    "        writer.write('cant figure this part out\\n')\n",
    "        writer.close\n",
    "        return 0"
   ]
  },
  {
   "cell_type": "code",
   "execution_count": 71,
   "metadata": {
    "collapsed": true
   },
   "outputs": [],
   "source": [
    "def fib_file(n,fname):\n",
    "    if (n<0):\n",
    "        return \"please enter a number above 0\"\n",
    "    else:\n",
    "        print(fib(n,fname))"
   ]
  },
  {
   "cell_type": "code",
   "execution_count": 72,
   "metadata": {
    "collapsed": false
   },
   "outputs": [
    {
     "name": "stdout",
     "output_type": "stream",
     "text": [
      "1\n"
     ]
    }
   ],
   "source": [
    "fib_file(1,\"test.txt\")"
   ]
  }
 ],
 "metadata": {
  "kernelspec": {
   "display_name": "Python 3",
   "language": "python",
   "name": "python3"
  },
  "language_info": {
   "codemirror_mode": {
    "name": "ipython",
    "version": 3
   },
   "file_extension": ".py",
   "mimetype": "text/x-python",
   "name": "python",
   "nbconvert_exporter": "python",
   "pygments_lexer": "ipython3",
   "version": "3.4.3"
  }
 },
 "nbformat": 4,
 "nbformat_minor": 0
}
